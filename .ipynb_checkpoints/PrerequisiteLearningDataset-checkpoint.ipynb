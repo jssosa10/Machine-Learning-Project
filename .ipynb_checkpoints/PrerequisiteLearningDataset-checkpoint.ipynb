{
 "cells": [
  {
   "cell_type": "code",
   "execution_count": 40,
   "metadata": {},
   "outputs": [],
   "source": [
    "import numpy as np\n",
    "from random import randint\n",
    "from random import shuffle\n",
    "import pandas as pd\n",
    "from sklearn.model_selection import cross_val_score\n",
    "from sklearn.naive_bayes import GaussianNB\n",
    "from sklearn import linear_model\n",
    "from sklearn import metrics\n",
    "from sklearn.svm import SVC\n",
    "from sklearn.ensemble import RandomForestClassifier\n",
    "from imblearn.over_sampling import SMOTE\n",
    "from sklearn.model_selection import train_test_split\n",
    "from sklearn.metrics import confusion_matrix\n",
    "from sklearn.neural_network import MLPClassifier\n",
    "%matplotlib inline"
   ]
  },
  {
   "cell_type": "code",
   "execution_count": 41,
   "metadata": {},
   "outputs": [
    {
     "name": "stdout",
     "output_type": "stream",
     "text": [
      "Before Oversample\n",
      "(4285, 38) 1358\n",
      "After Oversample\n",
      "(5854, 38) 2927\n"
     ]
    }
   ],
   "source": [
    "d1=pd.read_csv('knowledge1.txt', sep='\\t', lineterminator='\\n')\n",
    "d2=pd.read_csv('knowledge2.txt', sep='\\t', lineterminator='\\n')\n",
    "d3=pd.read_csv('knowledge3.txt', sep='\\t', lineterminator='\\n')\n",
    "d1 = d1.rename(str.lower, axis='columns')\n",
    "d2=d2.drop('domain', axis=1).rename(str.lower, axis='columns')\n",
    "d3=d3.drop('domain', axis=1).rename(str.lower, axis='columns')\n",
    "d1 = d1.drop('id', axis=1)\n",
    "d2 = d2.drop('id', axis=1)\n",
    "d3 = d3.drop('id', axis=1)\n",
    "#print np.sum(d1['prerequisite'])\n",
    "#print np.sum(d2['prerequisite'])\n",
    "#print np.sum(d3['prerequisite'])\n",
    "#print d1.axes[1]\n",
    "#print d2.axes[1]\n",
    "#print d3.axes[1]\n",
    "data = pd.concat([d1,d2,d3],sort=True)\n",
    "#data = d3\n",
    "#print data.axes[1]\n",
    "data = data.sample(frac=1).reset_index(drop=True)\n",
    "Y = data['prerequisite']\n",
    "data = data.drop('prerequisite', axis=1)\n",
    "data = data.drop('concepta', axis=1)\n",
    "data = data.drop('conceptb_pre', axis=1)\n",
    "atributes = data.axes[1]\n",
    "#print atributes[0]\n",
    "X=np.array(data)[:,:]\n",
    "X=(X-np.average(X,axis=0))/np.std(X,axis=0)\n",
    "print 'Before Oversample'\n",
    "print X.shape, np.sum(Y)\n",
    "sm  = SMOTE(random_state=0)\n",
    "X, Y = sm.fit_sample(X,Y)\n",
    "print 'After Oversample'\n",
    "print X.shape, np.sum(Y)"
   ]
  },
  {
   "cell_type": "code",
   "execution_count": 33,
   "metadata": {},
   "outputs": [
    {
     "name": "stdout",
     "output_type": "stream",
     "text": [
      "NB\n",
      "0.6156587498246763\n",
      "0.7814310579294546\n",
      "0.9060697087287858\n",
      "0.7020606339939806\n",
      "SVM\n",
      "0.825085324232082\n",
      "0.8982690141663972\n",
      "0.8360383842161859\n",
      "0.826680043201838\n",
      "RF\n",
      "0.8995850670905605\n",
      "0.9562893462697482\n",
      "0.9009888260320725\n",
      "0.8984700553571378\n"
     ]
    }
   ],
   "source": [
    "clfs=[]\n",
    "clfs.append((GaussianNB(),'NB'))\n",
    "#clfs.append((linear_model.SGDClassifier(),'LR'))\n",
    "clfs.append((SVC(kernel='rbf'),'SVM'))\n",
    "clfs.append((RandomForestClassifier(n_estimators = 200, random_state=0),'RF'))\n",
    "for clf in clfs:\n",
    "        print clf[1]\n",
    "        print cross_val_score(clf[0], X, Y, cv=10, scoring='accuracy').mean()\n",
    "        print cross_val_score(clf[0], X, Y, cv=10, scoring='average_precision').mean()\n",
    "        print cross_val_score(clf[0], X, Y, cv=10, scoring='recall').mean()\n",
    "        print cross_val_score(clf[0], X, Y, cv=10, scoring='f1').mean()"
   ]
  },
  {
   "cell_type": "code",
   "execution_count": 42,
   "metadata": {},
   "outputs": [
    {
     "name": "stdout",
     "output_type": "stream",
     "text": [
      "MLP\n",
      "0.8843903408293983\n",
      "0.925935571363282\n",
      "0.9153279723222217\n",
      "0.8904923024710449\n"
     ]
    }
   ],
   "source": [
    "from sklearn.neural_network import MLPClassifier\n",
    "nn = MLPClassifier(hidden_layer_sizes=(100,40))\n",
    "print 'MLP'\n",
    "print cross_val_score(nn, X, Y, cv=10, scoring='accuracy').mean()\n",
    "print cross_val_score(nn, X, Y, cv=10, scoring='average_precision').mean()\n",
    "print cross_val_score(nn, X, Y, cv=10, scoring='recall').mean()\n",
    "print cross_val_score(nn, X, Y, cv=10, scoring='f1').mean()"
   ]
  },
  {
   "cell_type": "code",
   "execution_count": 36,
   "metadata": {},
   "outputs": [
    {
     "name": "stdout",
     "output_type": "stream",
     "text": [
      "(5854, 38)\n"
     ]
    }
   ],
   "source": [
    "print X.shape"
   ]
  },
  {
   "cell_type": "code",
   "execution_count": 38,
   "metadata": {},
   "outputs": [
    {
     "name": "stdout",
     "output_type": "stream",
     "text": [
      "MLP\n"
     ]
    }
   ],
   "source": [
    "from sklearn.decomposition import PCA\n",
    "pca = PCA(n_components=10)\n",
    "X_pca = pca.fit(X).transform(X)\n",
    "from sklearn.neural_network import MLPClassifier\n",
    "nn = MLPClassifier(hidden_layer_sizes=(30,10))\n",
    "print 'MLP'\n",
    "#print cross_val_score(nn, X_pca, Y, cv=10, scoring='accuracy').mean()\n",
    "#print cross_val_score(nn, X_pca, Y, cv=10, scoring='average_precision').mean()\n",
    "#print cross_val_score(nn, X_pca, Y, cv=10, scoring='recall').mean()\n",
    "#print cross_val_score(nn, X_pca, Y, cv=10, scoring='f1').mean()"
   ]
  },
  {
   "cell_type": "code",
   "execution_count": 39,
   "metadata": {},
   "outputs": [
    {
     "name": "stdout",
     "output_type": "stream",
     "text": [
      "(5854, 38)\n"
     ]
    }
   ],
   "source": [
    "print X.shape"
   ]
  }
 ],
 "metadata": {
  "kernelspec": {
   "display_name": "Python 2",
   "language": "python",
   "name": "python2"
  },
  "language_info": {
   "codemirror_mode": {
    "name": "ipython",
    "version": 2
   },
   "file_extension": ".py",
   "mimetype": "text/x-python",
   "name": "python",
   "nbconvert_exporter": "python",
   "pygments_lexer": "ipython2",
   "version": "2.7.15rc1"
  }
 },
 "nbformat": 4,
 "nbformat_minor": 2
}
