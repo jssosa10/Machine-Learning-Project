{
 "cells": [
  {
   "cell_type": "code",
   "execution_count": 15,
   "metadata": {},
   "outputs": [],
   "source": [
    "import numpy as np\n",
    "from random import randint\n",
    "from random import shuffle\n",
    "import pandas as pd\n",
    "from sklearn.model_selection import cross_val_score\n",
    "from sklearn.naive_bayes import GaussianNB\n",
    "from sklearn.naive_bayes import MultinomialNB\n",
    "from sklearn import metrics\n",
    "from sklearn.model_selection import train_test_split\n",
    "from sklearn.metrics import confusion_matrix"
   ]
  },
  {
   "cell_type": "code",
   "execution_count": 22,
   "metadata": {},
   "outputs": [
    {
     "name": "stdout",
     "output_type": "stream",
     "text": [
      "{'jazz and blues': 6, 'classic pop and rock': 0, 'classical': 7, 'punk': 1, 'metal': 5, 'pop': 3, 'dance and electronica': 4, 'hip-hop': 8, 'soul and reggae': 9, 'folk': 2}\n",
      "(59600, 30)\n",
      "[0 0 0 ... 0 0 2]\n"
     ]
    }
   ],
   "source": [
    "data=pd.read_csv('msd_genre_dataset.txt')\n",
    "#The song unique data is erase because this data give no useful information about the song\n",
    "data = data.drop('track_id', axis=1)\n",
    "data = data.drop('artist_name', axis=1)\n",
    "data = data.drop('title', axis=1)\n",
    "labels = data['genre'].unique()\n",
    "dict_labels = {}\n",
    "for i in range(len(labels)):\n",
    "    dict_labels[labels[i]]=i\n",
    "data.genre = data.genre.map(dict_labels)\n",
    "data = data.sample(frac=1).reset_index(drop=True)\n",
    "#print data\n",
    "print dict_labels\n",
    "y = np.array(data['genre'])\n",
    "X = np.array(data)[:,1:]\n",
    "print x.shape\n",
    "X_train, X_test, y_train, y_test = train_test_split(X, y, random_state=0)"
   ]
  },
  {
   "cell_type": "code",
   "execution_count": 25,
   "metadata": {},
   "outputs": [],
   "source": [
    "gnb = GaussianNB()\n"
   ]
  }
 ],
 "metadata": {
  "kernelspec": {
   "display_name": "Python 2",
   "language": "python",
   "name": "python2"
  },
  "language_info": {
   "codemirror_mode": {
    "name": "ipython",
    "version": 2
   },
   "file_extension": ".py",
   "mimetype": "text/x-python",
   "name": "python",
   "nbconvert_exporter": "python",
   "pygments_lexer": "ipython2",
   "version": "2.7.15rc1"
  }
 },
 "nbformat": 4,
 "nbformat_minor": 2
}
