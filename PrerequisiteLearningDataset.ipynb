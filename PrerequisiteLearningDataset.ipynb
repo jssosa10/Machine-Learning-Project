{
 "cells": [
  {
   "cell_type": "code",
   "execution_count": 22,
   "metadata": {},
   "outputs": [],
   "source": [
    "import numpy as np\n",
    "from random import randint\n",
    "from random import shuffle\n",
    "import pandas as pd\n",
    "from sklearn.model_selection import cross_val_score\n",
    "from sklearn.naive_bayes import GaussianNB\n",
    "from sklearn.naive_bayes import MultinomialNB\n",
    "from sklearn import metrics\n",
    "from sklearn.model_selection import train_test_split\n",
    "from sklearn.metrics import confusion_matrix\n",
    "%matplotlib inline"
   ]
  },
  {
   "cell_type": "code",
   "execution_count": 21,
   "metadata": {},
   "outputs": [
    {
     "name": "stdout",
     "output_type": "stream",
     "text": [
      "Index([u'arxiv_common_results_first_1000', u'ave_tax_simil', u'ca_ar_index',\n",
      "       u'ca_flesch_reading_ease', u'ca_inlinks', u'ca_noun_phrases',\n",
      "       u'ca_number_sentences', u'ca_number_words', u'ca_outlinks',\n",
      "       u'ca_smog_index', u'cat_common', u'cb_ar_index',\n",
      "       u'cb_flesch_reading_ease', u'cb_inlinks', u'cb_noun_phrases',\n",
      "       u'cb_number_sentences', u'cb_number_words', u'cb_outlinks',\n",
      "       u'cb_smog_index', u'common_neighbors', u'concepta', u'conceptb_pre',\n",
      "       u'core_common_results_first_500', u'core_p_a', u'core_p_a_and_b',\n",
      "       u'core_p_a_given_b', u'core_p_b', u'core_p_b_given_a',\n",
      "       u'direct_connections', u'link_proportion', u'max_tax_simil',\n",
      "       u'min_tax_simil', u'ngd', u'p_ca', u'p_ca_cb', u'p_ca_given_cb',\n",
      "       u'p_cb', u'p_cb_given_ca', u'page_rank_difference', u'pmi',\n",
      "       u'prerequisite'],\n",
      "      dtype='object')\n"
     ]
    }
   ],
   "source": [
    "d1=pd.read_csv('knowledge1.txt', sep='\\t', lineterminator='\\n')\n",
    "d2=pd.read_csv('knowledge2.txt', sep='\\t', lineterminator='\\n')\n",
    "d3=pd.read_csv('knowledge3.txt', sep='\\t', lineterminator='\\n')\n",
    "d1 = d1.rename(str.lower, axis='columns')\n",
    "d2=d2.drop('domain', axis=1).rename(str.lower, axis='columns')\n",
    "d3=d3.drop('domain', axis=1).rename(str.lower, axis='columns')\n",
    "d1 = d1.drop('id', axis=1)\n",
    "d2 = d2.drop('id', axis=1)\n",
    "d3 = d3.drop('id', axis=1)\n",
    "#print d1.axes[1]\n",
    "#print d2.axes[1]\n",
    "#print d3.axes[1]\n",
    "data = pd.concat([d1,d2,d3],sort=True)\n",
    "print data.axes[1]"
   ]
  }
 ],
 "metadata": {
  "kernelspec": {
   "display_name": "Python 2",
   "language": "python",
   "name": "python2"
  },
  "language_info": {
   "codemirror_mode": {
    "name": "ipython",
    "version": 2
   },
   "file_extension": ".py",
   "mimetype": "text/x-python",
   "name": "python",
   "nbconvert_exporter": "python",
   "pygments_lexer": "ipython2",
   "version": "2.7.15rc1"
  }
 },
 "nbformat": 4,
 "nbformat_minor": 2
}
