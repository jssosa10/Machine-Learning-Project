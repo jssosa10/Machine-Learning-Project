{
 "cells": [
  {
   "cell_type": "code",
   "execution_count": 12,
   "metadata": {},
   "outputs": [],
   "source": [
    "import numpy as np\n",
    "from random import randint\n",
    "from random import shuffle\n",
    "import pandas as pd\n",
    "from sklearn.model_selection import cross_val_score\n",
    "from sklearn.naive_bayes import GaussianNB\n",
    "from imblearn.over_sampling import SMOTE\n",
    "from sklearn import metrics\n",
    "from sklearn.model_selection import train_test_split\n",
    "from sklearn.metrics import confusion_matrix\n",
    "%matplotlib inline"
   ]
  },
  {
   "cell_type": "code",
   "execution_count": 22,
   "metadata": {},
   "outputs": [
    {
     "name": "stdout",
     "output_type": "stream",
     "text": [
      "Before Oversample\n",
      "(4285, 38) 1358\n",
      "After Oversample\n",
      "(5854, 38) 2927\n"
     ]
    }
   ],
   "source": [
    "d1=pd.read_csv('knowledge1.txt', sep='\\t', lineterminator='\\n')\n",
    "d2=pd.read_csv('knowledge2.txt', sep='\\t', lineterminator='\\n')\n",
    "d3=pd.read_csv('knowledge3.txt', sep='\\t', lineterminator='\\n')\n",
    "d1 = d1.rename(str.lower, axis='columns')\n",
    "d2=d2.drop('domain', axis=1).rename(str.lower, axis='columns')\n",
    "d3=d3.drop('domain', axis=1).rename(str.lower, axis='columns')\n",
    "d1 = d1.drop('id', axis=1)\n",
    "d2 = d2.drop('id', axis=1)\n",
    "d3 = d3.drop('id', axis=1)\n",
    "#print np.sum(d1['prerequisite'])\n",
    "#print np.sum(d2['prerequisite'])\n",
    "#print np.sum(d3['prerequisite'])\n",
    "#print d1.axes[1]\n",
    "#print d2.axes[1]\n",
    "#print d3.axes[1]\n",
    "data = pd.concat([d1,d2,d3],sort=True)\n",
    "#print data.axes[1]\n",
    "data = data.sample(frac=1).reset_index(drop=True)\n",
    "Y = data['prerequisite']\n",
    "data = data.drop('prerequisite', axis=1)\n",
    "data = data.drop('concepta', axis=1)\n",
    "data = data.drop('conceptb_pre', axis=1)\n",
    "atributes = data.axes[1]\n",
    "#print atributes[0]\n",
    "X=np.array(data)[:,:]\n",
    "print 'Before Oversample'\n",
    "print X.shape, np.sum(Y)\n",
    "sm  = SMOTE(random_state=0)\n",
    "X, Y = sm.fit_sample(X,Y)\n",
    "print 'After Oversample'\n",
    "print X.shape, np.sum(Y)"
   ]
  }
 ],
 "metadata": {
  "kernelspec": {
   "display_name": "Python 2",
   "language": "python",
   "name": "python2"
  },
  "language_info": {
   "codemirror_mode": {
    "name": "ipython",
    "version": 2
   },
   "file_extension": ".py",
   "mimetype": "text/x-python",
   "name": "python",
   "nbconvert_exporter": "python",
   "pygments_lexer": "ipython2",
   "version": "2.7.15rc1"
  }
 },
 "nbformat": 4,
 "nbformat_minor": 2
}
